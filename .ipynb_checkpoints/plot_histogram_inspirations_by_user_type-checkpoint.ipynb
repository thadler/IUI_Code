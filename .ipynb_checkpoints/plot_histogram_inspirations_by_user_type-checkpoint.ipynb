{
 "cells": [
  {
   "cell_type": "code",
   "execution_count": 1,
   "metadata": {},
   "outputs": [],
   "source": [
    "# expectation maximization\n",
    "import data_reader\n",
    "import numpy as np\n",
    "from sklearn.mixture import GaussianMixture\n",
    "import scipy.stats as stats\n",
    "import math\n",
    "import matplotlib.pyplot as plt"
   ]
  },
  {
   "cell_type": "code",
   "execution_count": 2,
   "metadata": {},
   "outputs": [],
   "source": [
    "path2submitsA  = 'iui20_ideaSubmits.csv'\n",
    "path2requestsA = 'iui20_inspirationRequests.csv'\n",
    "\n",
    "path2submitsB  = 'iui20_ideaSubmitsPart2.csv'\n",
    "path2requestsB = 'iui20_inspirationRequestsPart2.csv'\n",
    "\n",
    "seconds_per_bucket = 30"
   ]
  },
  {
   "cell_type": "code",
   "execution_count": 13,
   "metadata": {},
   "outputs": [],
   "source": [
    "#load data as sessions\n",
    "sessionsA = data_reader.load_data_as_sessions_dict(path2submitsA, path2requestsA, seconds_per_bucket)\n",
    "sessionsB = data_reader.load_data_as_sessions_dict(path2submitsB, path2requestsB, seconds_per_bucket)\n",
    "sessions = {**sessionsA, **sessionsB}\n",
    "#sessions = sessionsA\n",
    "\n",
    "data_reader.add_avoiders_undetermined_and_seekers(sessionsA)\n",
    "data_reader.add_avoiders_undetermined_and_seekers(sessionsB)\n",
    "\n",
    "nr_of_bucketsA = len(sessionsA[list(sessionsA.keys())[0]]['requests'])\n",
    "nr_of_bucketsB = len(sessionsB[list(sessionsB.keys())[0]]['requests'])\n",
    "nr_of_buckets  = min(nr_of_bucketsA, nr_of_bucketsB)\n",
    "\n",
    "xA, yA, _, _ = data_reader.create_train_test_dataset(10, sessionsA.keys(), set(), sessionsA, 1.0)\n",
    "xB, yB, _, _ = data_reader.create_train_test_dataset(10, sessionsB.keys(), set(), sessionsB, 1.0)"
   ]
  },
  {
   "cell_type": "code",
   "execution_count": 26,
   "metadata": {},
   "outputs": [
    {
     "name": "stdout",
     "output_type": "stream",
     "text": [
      "[4 9 7 1 3 2 2 3 1 0]\n",
      "[ 74 155 108  79 119 122 134 125 141 144]\n"
     ]
    }
   ],
   "source": [
    "xA_avoider = [xA[i] for i in range(len(xA)) if yA[i]==0]\n",
    "xA_seeker  = [xA[i] for i in range(len(xA)) if yA[i]==1]\n",
    "\n",
    "xB_avoider = [xB[i] for i in range(len(xB)) if yB[i]==0]\n",
    "xB_seeker  = [xB[i] for i in range(len(xB)) if yB[i]==1]\n",
    "\n",
    "print(np.sum(xA_avoider,axis=0))\n",
    "print(np.sum(xA_seeker, axis=0))\n"
   ]
  },
  {
   "cell_type": "code",
   "execution_count": 34,
   "metadata": {},
   "outputs": [
    {
     "data": {
      "image/png": "[encoded data removed]",
      "text/plain": [
       "<Figure size 432x288 with 1 Axes>"
      ]
     },
     "metadata": {
      "needs_background": "light"
     },
     "output_type": "display_data"
    }
   ],
   "source": [
    "#print(np.sum(xB_avoider,axis=0))\n",
    "#print(np.sum(xB_seeker, axis=0))\n",
    "plt.bar(np.arange(len(np.sum(xA_avoider,axis=0))), np.sum(xA_avoider,axis=0))\n",
    "plt.show()"
   ]
  }
 ],
 "metadata": {
  "kernelspec": {
   "display_name": "Python 3",
   "language": "python",
   "name": "python3"
  },
  "language_info": {
   "codemirror_mode": {
    "name": "ipython",
    "version": 3
   },
   "file_extension": ".py",
   "mimetype": "text/x-python",
   "name": "python",
   "nbconvert_exporter": "python",
   "pygments_lexer": "ipython3",
   "version": "3.6.8"
  }
 },
 "nbformat": 4,
 "nbformat_minor": 2
}
