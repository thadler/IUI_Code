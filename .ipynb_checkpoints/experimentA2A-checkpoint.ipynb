{
 "cells": [
  {
   "cell_type": "code",
   "execution_count": 1,
   "metadata": {},
   "outputs": [],
   "source": [
    "from pprint import pprint\n",
    "import data_reader\n",
    "import numpy as np\n",
    "from sklearn.model_selection import train_test_split\n",
    "from sklearn.tree import DecisionTreeClassifier\n",
    "from sklearn.ensemble import RandomForestClassifier\n",
    "from sklearn.metrics import confusion_matrix\n",
    "from sklearn.metrics import accuracy_score, precision_score, recall_score, f1_score, balanced_accuracy_score\n",
    "import matplotlib.pyplot as plt"
   ]
  },
  {
   "cell_type": "code",
   "execution_count": 2,
   "metadata": {},
   "outputs": [],
   "source": [
    "path2submits  = 'iui20_ideaSubmits.csv'\n",
    "path2requests = 'iui20_inspirationRequests.csv'\n",
    "seconds_per_bucket = 15\n",
    "train_percentage = 0.7"
   ]
  },
  {
   "cell_type": "code",
   "execution_count": 11,
   "metadata": {},
   "outputs": [
    {
     "name": "stdout",
     "output_type": "stream",
     "text": [
      "381\n"
     ]
    }
   ],
   "source": [
    "#load data as sessions\n",
    "sessions = data_reader.load_data_as_sessions_dict(path2submits, path2requests, seconds_per_bucket)\n",
    "# calculate avoiders and seekers\n",
    "sessions = data_reader.add_avoiders_undetermined_and_seekers(sessions)\n",
    "# create train and test set of worker ids\n",
    "train_worker_ids, test_worker_ids = data_reader.split_worker_ids_into_train_test(sessions, train_percentage=train_percentage)\n",
    "print(len(sessions))"
   ]
  },
  {
   "cell_type": "code",
   "execution_count": 10,
   "metadata": {},
   "outputs": [
    {
     "name": "stderr",
     "output_type": "stream",
     "text": [
      "/home/bobby/Env/tensorflow/lib/python3.6/site-packages/sklearn/metrics/classification.py:1437: UndefinedMetricWarning: Precision is ill-defined and being set to 0.0 in labels with no predicted samples.\n",
      "  'precision', 'predicted', average, warn_for)\n"
     ]
    },
    {
     "name": "stdout",
     "output_type": "stream",
     "text": [
      "[array([[ 0, 32],\n",
      "       [ 0, 83]]),\n",
      " array([[21, 11],\n",
      "       [38, 45]]),\n",
      " array([[27,  5],\n",
      "       [31, 52]]),\n",
      " array([[28,  4],\n",
      "       [29, 54]]),\n",
      " array([[28,  4],\n",
      "       [21, 62]]),\n",
      " array([[28,  4],\n",
      "       [13, 70]]),\n",
      " array([[28,  4],\n",
      "       [12, 71]]),\n",
      " array([[27,  5],\n",
      "       [12, 71]]),\n",
      " array([[29,  3],\n",
      "       [ 9, 74]]),\n",
      " array([[28,  4],\n",
      "       [ 5, 78]])]\n"
     ]
    },
    {
     "data": {
      "image/png": "[encoded data removed]",
      "text/plain": [
       "<Figure size 432x288 with 1 Axes>"
      ]
     },
     "metadata": {
      "needs_background": "light"
     },
     "output_type": "display_data"
    }
   ],
   "source": [
    "# iterate through different numbers of buckets\n",
    "# train a classifier for each different numbers of buckets\n",
    "# test on test examples\n",
    "# get roc curve\n",
    "conf_matrices    = []\n",
    "accuracies       = []\n",
    "balanced_accs    = []\n",
    "precisions_micro = []\n",
    "recalls_micro    = []\n",
    "max_number_of_buckets = 40\n",
    "for nr_of_buckets in range(1, max_number_of_buckets, int(60/seconds_per_bucket)):\n",
    "    x_tr, y_tr, x_te, y_te = data_reader.create_train_test_dataset(nr_of_buckets, train_worker_ids, test_worker_ids, sessions, train_percentage)\n",
    "    #clf = DecisionTreeClassifier(max_depth=3, class_weight='balanced')\n",
    "    clf = RandomForestClassifier(200, class_weight='balanced')\n",
    "    clf.fit(x_tr, y_tr)\n",
    "    y_pre = clf.predict(x_te)\n",
    "    \n",
    "    sample_weight = 1.0 * np.bincount(y_te) / len(y_te)\n",
    "    sample_weight = [sample_weight[y_te[i]] for i in range(len(y_te))]\n",
    "    \n",
    "    #print(y_te)\n",
    "    #print(sample_weight)\n",
    "    \n",
    "    conf_matrices   .append(confusion_matrix(y_te, y_pre, sample_weight=sample_weight))\n",
    "    accuracies      .append(accuracy_score  (y_te, y_pre, sample_weight=sample_weight))\n",
    "    precisions_micro.append(precision_score (y_te, y_pre, average='macro', sample_weight=sample_weight))\n",
    "    recalls_micro   .append(recall_score    (y_te, y_pre, average='macro', sample_weight=sample_weight))\n",
    "\n",
    "# [[tn, fp, fn, tp], ...]\n",
    "#conf_matrices = np.array([conf_m.ravel() for conf_m in conf_matrices])\n",
    "\n",
    "#pprint(precisions_micro)\n",
    "pprint(conf_matrices)\n",
    "\n",
    "#plt.xticks(range(1, max_number_of_buckets))\n",
    "steps = int(max_number_of_buckets / int(60/seconds_per_bucket))\n",
    "plt.plot(range(1, steps+1), accuracies,       label='accuracy')\n",
    "plt.plot(range(1, steps+1), precisions_micro, label='precision')\n",
    "plt.plot(range(1, steps+1), recalls_micro,    label='recall')\n",
    "plt.legend(bbox_to_anchor=(0., 1.02, 1., .102), loc=3, ncol=3, mode=\"expand\", borderaxespad=0.)\n",
    "plt.show()"
   ]
  },
  {
   "cell_type": "code",
   "execution_count": null,
   "metadata": {},
   "outputs": [],
   "source": [
    "from sklearn.externals.six import StringIO  \n",
    "from IPython.display import Image  \n",
    "from sklearn.tree import export_graphviz\n",
    "import pydotplus\n",
    "\n",
    "train_percentage = 1.0\n",
    "x_tr, y_tr, x_te, y_te = data_reader.create_train_test_dataset(int(max_number_of_buckets/2), train_worker_ids, test_worker_ids, sessions, train_percentage)\n",
    "clf = DecisionTreeClassifier(max_depth=8, min_impurity_split=0.1, class_weight='balanced')\n",
    "clf.fit(x_tr, y_tr)\n",
    "    \n",
    "dot_data = StringIO()\n",
    "export_graphviz(clf, out_file=dot_data, filled=True, rounded=True, special_characters=True)\n",
    "graph = pydotplus.graph_from_dot_data(dot_data.getvalue())  \n",
    "Image(graph.create_png())"
   ]
  },
  {
   "cell_type": "code",
   "execution_count": null,
   "metadata": {},
   "outputs": [],
   "source": []
  }
 ],
 "metadata": {
  "kernelspec": {
   "display_name": "Python 3",
   "language": "python",
   "name": "python3"
  },
  "language_info": {
   "codemirror_mode": {
    "name": "ipython",
    "version": 3
   },
   "file_extension": ".py",
   "mimetype": "text/x-python",
   "name": "python",
   "nbconvert_exporter": "python",
   "pygments_lexer": "ipython3",
   "version": "3.6.8"
  }
 },
 "nbformat": 4,
 "nbformat_minor": 2
}
